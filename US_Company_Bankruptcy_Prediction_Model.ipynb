{
  "nbformat": 4,
  "nbformat_minor": 0,
  "metadata": {
    "colab": {
      "provenance": [],
      "authorship_tag": "ABX9TyPur1MIcFuBV3cz58Z9PavN",
      "include_colab_link": true
    },
    "kernelspec": {
      "name": "python3",
      "display_name": "Python 3"
    },
    "language_info": {
      "name": "python"
    }
  },
  "cells": [
    {
      "cell_type": "markdown",
      "metadata": {
        "id": "view-in-github",
        "colab_type": "text"
      },
      "source": [
        "<a href=\"https://colab.research.google.com/github/GOODYSPEC/Goodness/blob/main/US_Company_Bankruptcy_Prediction_Model.ipynb\" target=\"_parent\"><img src=\"https://colab.research.google.com/assets/colab-badge.svg\" alt=\"Open In Colab\"/></a>"
      ]
    },
    {
      "cell_type": "code",
      "execution_count": null,
      "metadata": {
        "id": "tYXDgXdEbUzJ"
      },
      "outputs": [],
      "source": [
        "# 📦 Import required libraries\n",
        "import pandas as pd\n",
        "import numpy as np\n",
        "from sklearn.model_selection import train_test_split, GridSearchCV\n",
        "from sklearn.preprocessing import RobustScaler\n",
        "from sklearn.pipeline import Pipeline\n",
        "from sklearn.metrics import accuracy_score, precision_score, recall_score, f1_score, roc_auc_score\n",
        "from xgboost import XGBClassifier\n",
        "from sklearn.ensemble import RandomForestClassifier, GradientBoostingClassifier\n",
        "from sklearn.tree import DecisionTreeClassifier\n",
        "from sklearn.neighbors import KNeighborsClassifier\n",
        "from imblearn.over_sampling import SMOTE"
      ]
    },
    {
      "cell_type": "code",
      "source": [
        "data = pd.read_csv(\"/content/american_bankruptcy.csv\")"
      ],
      "metadata": {
        "id": "c01MX9O4cAww"
      },
      "execution_count": null,
      "outputs": []
    },
    {
      "cell_type": "code",
      "source": [
        "data = data.drop(columns=[\"Company\", \"Year\", \"Country\"], errors='ignore')"
      ],
      "metadata": {
        "id": "ZNd7ffXscSmX"
      },
      "execution_count": null,
      "outputs": []
    },
    {
      "cell_type": "code",
      "source": [
        "print(data.columns)"
      ],
      "metadata": {
        "colab": {
          "base_uri": "https://localhost:8080/"
        },
        "id": "x2ntVNUbd4Z_",
        "outputId": "85c0d87f-4fb1-4d2f-8b6c-9e95b9da5697"
      },
      "execution_count": null,
      "outputs": [
        {
          "output_type": "stream",
          "name": "stdout",
          "text": [
            "Index(['company_name', 'status_label', 'year', 'X1', 'X2', 'X3', 'X4', 'X5',\n",
            "       'X6', 'X7', 'X8', 'X9', 'X10', 'X11', 'X12', 'X13', 'X14', 'X15', 'X16',\n",
            "       'X17', 'X18'],\n",
            "      dtype='object')\n"
          ]
        }
      ]
    },
    {
      "cell_type": "code",
      "source": [
        "print(\"X shape:\", X.shape)\n",
        "print(\"y shape:\", y.shape)"
      ],
      "metadata": {
        "colab": {
          "base_uri": "https://localhost:8080/"
        },
        "id": "sRCISIuwvVBJ",
        "outputId": "1d9b75c9-c735-40d9-b6fb-76414b040874"
      },
      "execution_count": null,
      "outputs": [
        {
          "output_type": "stream",
          "name": "stdout",
          "text": [
            "X shape: (0, 18)\n",
            "y shape: (0,)\n"
          ]
        }
      ]
    },
    {
      "cell_type": "code",
      "source": [
        "from sklearn.preprocessing import LabelEncoder\n",
        "\n",
        "le = LabelEncoder()\n",
        "data['status_label'] = le.fit_transform(data['status_label'])"
      ],
      "metadata": {
        "id": "wXy1R1hP1Nii"
      },
      "execution_count": null,
      "outputs": []
    },
    {
      "cell_type": "code",
      "source": [
        "y = data[\"status_label\"]"
      ],
      "metadata": {
        "id": "uxRCZsWQvb6j"
      },
      "execution_count": null,
      "outputs": []
    },
    {
      "cell_type": "code",
      "source": [
        "data = data.dropna(subset=[\"status_label\"])\n"
      ],
      "metadata": {
        "id": "Cv8xGpY9vhmd"
      },
      "execution_count": null,
      "outputs": []
    },
    {
      "cell_type": "code",
      "source": [
        "X = data.drop(columns=[\"status_label\", \"year\"], errors='ignore')\n",
        "y = data[\"status_label\"]\n"
      ],
      "metadata": {
        "id": "3Xm2W62DvheZ"
      },
      "execution_count": null,
      "outputs": []
    },
    {
      "cell_type": "code",
      "source": [
        "print(X.shape, y.shape)\n"
      ],
      "metadata": {
        "colab": {
          "base_uri": "https://localhost:8080/"
        },
        "id": "uU4r8Gq0vrLz",
        "outputId": "bd20c1ce-bebf-4762-97e9-588de5f1dd85"
      },
      "execution_count": null,
      "outputs": [
        {
          "output_type": "stream",
          "name": "stdout",
          "text": [
            "(78682, 19) (78682,)\n"
          ]
        }
      ]
    },
    {
      "cell_type": "code",
      "source": [
        "from sklearn.model_selection import train_test_split\n",
        "\n",
        "X_train, X_test, y_train, y_test = train_test_split(\n",
        "    X, y, test_size=0.2, stratify=y, random_state=42\n",
        ")\n"
      ],
      "metadata": {
        "id": "UizEY_wivqqP"
      },
      "execution_count": null,
      "outputs": []
    },
    {
      "cell_type": "code",
      "source": [
        "print(X_train.select_dtypes(include='object').columns)\n"
      ],
      "metadata": {
        "colab": {
          "base_uri": "https://localhost:8080/"
        },
        "id": "uTtnXldBwbEb",
        "outputId": "2dd55148-2e28-433c-a7f1-7923bcd87f70"
      },
      "execution_count": null,
      "outputs": [
        {
          "output_type": "stream",
          "name": "stdout",
          "text": [
            "Index(['company_name'], dtype='object')\n"
          ]
        }
      ]
    },
    {
      "cell_type": "code",
      "source": [
        "print(X_train.select_dtypes(include='object').columns)"
      ],
      "metadata": {
        "colab": {
          "base_uri": "https://localhost:8080/"
        },
        "id": "AMMiSDXXweFN",
        "outputId": "44907fe8-7c8f-4ac7-dd29-f0bfd7e195ef"
      },
      "execution_count": null,
      "outputs": [
        {
          "output_type": "stream",
          "name": "stdout",
          "text": [
            "Index(['company_name'], dtype='object')\n"
          ]
        }
      ]
    },
    {
      "cell_type": "code",
      "source": [
        "X = data.drop(columns=[\"status_label\", \"year\", \"company_name\"], errors='ignore')\n",
        "y = data[\"status_label\"]\n"
      ],
      "metadata": {
        "id": "oy3Ma7EfwrBt"
      },
      "execution_count": null,
      "outputs": []
    },
    {
      "cell_type": "code",
      "source": [
        "from sklearn.model_selection import train_test_split\n",
        "from imblearn.over_sampling import SMOTE\n",
        "\n",
        "# Split data\n",
        "X_train, X_test, y_train, y_test = train_test_split(\n",
        "    X, y, test_size=0.2, stratify=y, random_state=42\n",
        ")\n",
        "\n",
        "\n"
      ],
      "metadata": {
        "id": "I-Yis5Suwq3A"
      },
      "execution_count": null,
      "outputs": []
    },
    {
      "cell_type": "code",
      "source": [
        "# Apply SMOTE\n",
        "smote = SMOTE(random_state=42)\n",
        "X_train_bal, y_train_bal = smote.fit_resample(X_train, y_train)"
      ],
      "metadata": {
        "id": "DMNEo4-RxJ0B"
      },
      "execution_count": null,
      "outputs": []
    },
    {
      "cell_type": "code",
      "source": [
        "models = {\n",
        "    \"DecisionTree\": DecisionTreeClassifier(),\n",
        "    \"RandomForest\": RandomForestClassifier(),\n",
        "    \"GradientBoosting\": GradientBoostingClassifier(),\n",
        "    \"KNN\": KNeighborsClassifier(),\n",
        "    \"XGBoost\": XGBClassifier(eval_metric='logloss', use_label_encoder=False)\n",
        "}"
      ],
      "metadata": {
        "id": "DcxC1ZjMv9sO"
      },
      "execution_count": null,
      "outputs": []
    },
    {
      "cell_type": "code",
      "source": [
        "param_grid = {\n",
        "    \"DecisionTree\": {\n",
        "        \"model__max_depth\": [5, 10, 20],\n",
        "        \"model__min_samples_split\": [2, 5]\n",
        "    },\n",
        "    \"RandomForest\": {\n",
        "        \"model__n_estimators\": [50, 100],\n",
        "        \"model__max_depth\": [5, 10],\n",
        "        \"model__min_samples_split\": [2, 5]\n",
        "    },\n",
        "    \"GradientBoosting\": {\n",
        "        \"model__n_estimators\": [50, 100],\n",
        "        \"model__max_depth\": [3, 5],\n",
        "        \"model__learning_rate\": [0.01, 0.1]\n",
        "    },\n",
        "    \"KNN\": {\n",
        "        \"model__n_neighbors\": [3, 5, 7],\n",
        "        \"model__p\": [1, 2]\n",
        "    },\n",
        "    \"XGBoost\": {\n",
        "        \"model__n_estimators\": [50, 100],\n",
        "        \"model__max_depth\": [3, 5],\n",
        "        \"model__learning_rate\": [0.01, 0.1]\n",
        "    }\n",
        "}\n"
      ],
      "metadata": {
        "id": "mBKBTyRcv9py"
      },
      "execution_count": null,
      "outputs": []
    },
    {
      "cell_type": "code",
      "source": [
        "results = []\n",
        "best_models = {}\n",
        "\n",
        "for name in models:\n",
        "    print(f\"🔍 Tuning {name}...\")\n",
        "    pipeline = Pipeline([\n",
        "        (\"scaler\", RobustScaler()),\n",
        "        (\"model\", models[name])\n",
        "    ])\n",
        "\n",
        "    grid = GridSearchCV(pipeline, param_grid[name], cv=5, scoring='f1', n_jobs=-1)\n",
        "    grid.fit(X_train_bal, y_train_bal)\n",
        "\n",
        "    best_model = grid.best_estimator_\n",
        "    best_models[name] = best_model  # ✅ fixed here\n",
        "\n",
        "    # Predict on test set\n",
        "    y_pred = best_model.predict(X_test)\n",
        "    y_prob = best_model.predict_proba(X_test)[:, 1]\n",
        "\n",
        "    results.append({\n",
        "        \"Model\": name,\n",
        "        \"Accuracy\": accuracy_score(y_test, y_pred),\n",
        "        \"Precision\": precision_score(y_test, y_pred),\n",
        "        \"Recall\": recall_score(y_test, y_pred),\n",
        "        \"F1-Score\": f1_score(y_test, y_pred),\n",
        "        \"ROC AUC\": roc_auc_score(y_test, y_prob)\n",
        "    })\n"
      ],
      "metadata": {
        "colab": {
          "base_uri": "https://localhost:8080/"
        },
        "id": "letlKrG-xpq3",
        "outputId": "1175afa5-537e-410d-ada5-3b74c19feef1"
      },
      "execution_count": null,
      "outputs": [
        {
          "output_type": "stream",
          "name": "stdout",
          "text": [
            "🔍 Tuning DecisionTree...\n",
            "🔍 Tuning RandomForest...\n",
            "🔍 Tuning GradientBoosting...\n",
            "🔍 Tuning KNN...\n",
            "🔍 Tuning XGBoost...\n"
          ]
        }
      ]
    },
    {
      "cell_type": "code",
      "source": [
        "results_df = pd.DataFrame(results).set_index(\"Model\").round(3)\n",
        "print(\"\\n📊 Model Comparison Results:\\n\")\n",
        "print(results_df)"
      ],
      "metadata": {
        "colab": {
          "base_uri": "https://localhost:8080/"
        },
        "id": "J67VaA0Axpng",
        "outputId": "174d16db-97cb-422c-ea54-e6c5ba774875"
      },
      "execution_count": null,
      "outputs": [
        {
          "output_type": "stream",
          "name": "stdout",
          "text": [
            "\n",
            "📊 Model Comparison Results:\n",
            "\n",
            "                  Accuracy  Precision  Recall  F1-Score  ROC AUC\n",
            "Model                                                           \n",
            "DecisionTree         0.814      0.177   0.496     0.261    0.673\n",
            "RandomForest         0.737      0.147   0.616     0.237    0.758\n",
            "GradientBoosting     0.732      0.147   0.634     0.239    0.755\n",
            "KNN                  0.842      0.253   0.710     0.373    0.822\n",
            "XGBoost              0.726      0.144   0.632     0.234    0.755\n"
          ]
        }
      ]
    },
    {
      "cell_type": "code",
      "source": [
        "import joblib\n",
        "joblib.dump(best_models['KNN'], 'best_knn_model.pkl')\n"
      ],
      "metadata": {
        "colab": {
          "base_uri": "https://localhost:8080/"
        },
        "id": "chLI5N43xpli",
        "outputId": "d299e164-a546-46ed-8a87-e65263c924cb"
      },
      "execution_count": null,
      "outputs": [
        {
          "output_type": "execute_result",
          "data": {
            "text/plain": [
              "['best_knn_model.pkl']"
            ]
          },
          "metadata": {},
          "execution_count": 110
        }
      ]
    },
    {
      "cell_type": "code",
      "source": [
        "from sklearn.metrics import classification_report\n",
        "y_pred = best_models['KNN'].predict(X_test)\n",
        "print(classification_report(y_test, y_pred))"
      ],
      "metadata": {
        "colab": {
          "base_uri": "https://localhost:8080/"
        },
        "id": "ubrckraHxpir",
        "outputId": "386dfd8e-9193-4a75-f5fe-6dd9e18edcc7"
      },
      "execution_count": null,
      "outputs": [
        {
          "output_type": "stream",
          "name": "stdout",
          "text": [
            "              precision    recall  f1-score   support\n",
            "\n",
            "           0       0.98      0.85      0.91     14693\n",
            "           1       0.25      0.71      0.37      1044\n",
            "\n",
            "    accuracy                           0.84     15737\n",
            "   macro avg       0.61      0.78      0.64     15737\n",
            "weighted avg       0.93      0.84      0.87     15737\n",
            "\n"
          ]
        }
      ]
    },
    {
      "cell_type": "code",
      "source": [
        "from sklearn.metrics import ConfusionMatrixDisplay\n",
        "ConfusionMatrixDisplay.from_estimator(best_models['KNN'], X_test, y_test)\n"
      ],
      "metadata": {
        "colab": {
          "base_uri": "https://localhost:8080/",
          "height": 466
        },
        "id": "bE2ZCW-mxpfP",
        "outputId": "f3eea583-85d7-4664-c2e8-d778e6f6aa8c"
      },
      "execution_count": null,
      "outputs": [
        {
          "output_type": "execute_result",
          "data": {
            "text/plain": [
              "<sklearn.metrics._plot.confusion_matrix.ConfusionMatrixDisplay at 0x7bc40bd78ed0>"
            ]
          },
          "metadata": {},
          "execution_count": 112
        },
        {
          "output_type": "display_data",
          "data": {
            "text/plain": [
              "<Figure size 640x480 with 2 Axes>"
            ],
            "image/png": "[encoded data removed]"
          },
          "metadata": {}
        }
      ]
    },
    {
      "cell_type": "code",
      "source": [
        "import matplotlib.pyplot as plt\n",
        "\n",
        "model = best_models['XGBoost'].named_steps['model']\n",
        "importances = model.feature_importances_\n",
        "\n",
        "plt.figure(figsize=(10, 5))\n",
        "plt.barh(X.columns, importances)\n",
        "plt.title(\"XGBoost Feature Importances\")\n",
        "plt.show()\n"
      ],
      "metadata": {
        "colab": {
          "base_uri": "https://localhost:8080/",
          "height": 468
        },
        "id": "1-PculKdxpcY",
        "outputId": "8b73faa9-0818-416f-f66f-a98e686c979a"
      },
      "execution_count": null,
      "outputs": [
        {
          "output_type": "display_data",
          "data": {
            "text/plain": [
              "<Figure size 1000x500 with 1 Axes>"
            ],
            "image/png": "[encoded data removed]"
          },
          "metadata": {}
        }
      ]
    },
    {
      "cell_type": "code",
      "source": [
        "from IPython.display import display, FileLink\n",
        "display(FileLink(\"/content/US Bankruptcy Prediction Model Analysis.pdf\"))\n"
      ],
      "metadata": {
        "id": "1BBjWYU8xoU_",
        "colab": {
          "base_uri": "https://localhost:8080/",
          "height": 34
        },
        "outputId": "de823fc0-79c1-48dc-a3f9-6ec17874de32"
      },
      "execution_count": 1,
      "outputs": [
        {
          "output_type": "display_data",
          "data": {
            "text/plain": [
              "/content/US Bankruptcy Prediction Model Analysis.pdf"
            ],
            "text/html": [
              "<a href='/content/US Bankruptcy Prediction Model Analysis.pdf' target='_blank'>/content/US Bankruptcy Prediction Model Analysis.pdf</a><br>"
            ]
          },
          "metadata": {}
        }
      ]
    }
  ]
}